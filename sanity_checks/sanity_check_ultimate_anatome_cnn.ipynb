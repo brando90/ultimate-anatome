{
 "cells": [
  {
   "cell_type": "code",
   "execution_count": null,
   "outputs": [],
   "source": [
    "\"\"\"\n",
    "The similarity of the same network should always be 1.0 on same input.\n",
    "\"\"\"\n",
    "from collections import OrderedDict\n",
    "from copy import deepcopy\n",
    "\n",
    "import torch\n",
    "import torch.nn as nn\n",
    "\n",
    "from uutils.torch_uu import cxa_sim, approx_equal\n",
    "from uutils.torch_uu.models import get_single_conv_model\n",
    "import anatome\n",
    "print(f'from import: {anatome=}')\n",
    "\n",
    "print('--- Sanity check: sCCA = 1.0 when using same net twice with same input. --')\n",
    "\n",
    "Cin: int = 3\n",
    "num_out_filters: int = 8\n",
    "conv_layer: nn.Module = get_single_conv_model(in_channels=3, num_out_filters=num_out_filters)\n",
    "mdl1: nn.Module = nn.Sequential(OrderedDict([('conv1', conv_layer)]))\n",
    "mdl2: nn.Module = deepcopy(mdl1)\n",
    "layer_name = 'conv1'\n",
    "\n",
    "# - ends up comparing two matrices of size [B, Dout], on same data, on same model\n",
    "B: int = 4\n",
    "C, H, W = Cin, 64, 64\n",
    "# downsample_size = None\n",
    "cxa_dist_type = 'svcca'\n",
    "cxa_dist_type = 'pwcca'\n",
    "X: torch.Tensor = torch.distributions.Normal(loc=0.0, scale=1.0).sample((B, C, H, W))\n",
    "\n",
    "# - compute sim for NO downsample: so layer matrix is []\n",
    "downsample_size = None\n",
    "sim: float = cxa_sim(mdl1, mdl2, X, layer_name, downsample_size=downsample_size, iters=1, cxa_dist_type=cxa_dist_type)\n",
    "print(f'Should be very very close to 1.0: {sim=} ({cxa_dist_type=})')\n",
    "assert(approx_equal(sim, 1.0)), f'Sim should be close to 1.0 but got {sim=}'\n",
    "\n",
    "# - compute sim for downsample\n",
    "downsample_size: int = 5\n",
    "sim: float = cxa_sim(mdl1, mdl2, X, layer_name, downsample_size=downsample_size, iters=1, cxa_dist_type=cxa_dist_type)\n",
    "print(f'Should be very very close to 1.0: {sim=} ({cxa_dist_type=})')\n",
    "assert(approx_equal(sim, 1.0)), f'Sim should be close to 1.0 but got {sim=}'\n",
    "\n",
    "# - compute sim for downsample\n",
    "downsample_size: int = 1\n",
    "sim: float = cxa_sim(mdl1, mdl2, X, layer_name, downsample_size=downsample_size, iters=1, cxa_dist_type=cxa_dist_type)\n",
    "print(f'Should be very very close to 1.0: {sim=} ({cxa_dist_type=})')\n",
    "assert(approx_equal(sim, 1.0)), f'Sim should be close to 1.0 but got {sim=}'\n"
   ],
   "metadata": {
    "collapsed": false,
    "pycharm": {
     "name": "#%%\n"
    }
   }
  },
  {
   "cell_type": "code",
   "execution_count": null,
   "outputs": [],
   "source": [
    "\"\"\"\n",
    "ultimate anatome with activation as sim\n",
    "\"\"\"\n",
    "from collections import OrderedDict\n",
    "from copy import deepcopy\n",
    "\n",
    "import torch\n",
    "import torch.nn as nn\n",
    "\n",
    "from uutils.torch_uu import cxa_sim, approx_equal\n",
    "from uutils.torch_uu.models import get_single_conv_model\n",
    "import anatome\n",
    "\n",
    "effective_neuron_type: str = 'activation'\n",
    "\n",
    "# - compute sim for NO downsample: so layer matrix is []\n",
    "downsample_size = None\n",
    "sim: float = cxa_sim(mdl1, mdl2, X, layer_name, downsample_size=downsample_size, iters=1, cxa_dist_type=cxa_dist_type, effective_neuron_type=effective_neuron_type)\n",
    "print(f'Should be very very close to 1.0: {sim=} ({cxa_dist_type=})')\n",
    "assert(approx_equal(sim, 1.0)), f'Sim should be close to 1.0 but got {sim=}'\n",
    "\n",
    "# - compute sim for downsample\n",
    "downsample_size: int = 5\n",
    "sim: float = cxa_sim(mdl1, mdl2, X, layer_name, downsample_size=downsample_size, iters=1, cxa_dist_type=cxa_dist_type, effective_neuron_type=effective_neuron_type)\n",
    "print(f'Should be very very close to 1.0: {sim=} ({cxa_dist_type=})')\n",
    "assert(approx_equal(sim, 1.0)), f'Sim should be close to 1.0 but got {sim=}'\n",
    "\n",
    "# - compute sim for downsample\n",
    "downsample_size: int = 1\n",
    "sim: float = cxa_sim(mdl1, mdl2, X, layer_name, downsample_size=downsample_size, iters=1, cxa_dist_type=cxa_dist_type, effective_neuron_type=effective_neuron_type)\n",
    "print(f'Should be very very close to 1.0: {sim=} ({cxa_dist_type=})')\n",
    "assert(approx_equal(sim, 1.0)), f'Sim should be close to 1.0 but got {sim=}'\n"
   ],
   "metadata": {
    "collapsed": false,
    "pycharm": {
     "name": "#%%\n"
    }
   }
  },
  {
   "cell_type": "code",
   "execution_count": null,
   "outputs": [],
   "source": [
    "\"\"\"\n",
    "ultimate with original anatome as sim\n",
    "\"\"\"\n",
    "from collections import OrderedDict\n",
    "from copy import deepcopy\n",
    "\n",
    "import torch\n",
    "import torch.nn as nn\n",
    "\n",
    "from uutils.torch_uu import cxa_sim, approx_equal\n",
    "from uutils.torch_uu.models import get_single_conv_model\n",
    "import anatome\n",
    "\n",
    "from uutils.torch_uu import cxa_sim, approx_equal\n",
    "from uutils.torch_uu.models import get_single_conv_model\n",
    "import anatome\n",
    "\n",
    "effective_neuron_type: str = 'original_anatome'\n",
    "\n",
    "# - compute sim for NO downsample: so layer matrix is []\n",
    "downsample_size = None\n",
    "sim: float = cxa_sim(mdl1, mdl2, X, layer_name, downsample_size=downsample_size, iters=1, cxa_dist_type=cxa_dist_type, effective_neuron_type=effective_neuron_type)\n",
    "print(f'Should be very very close to 1.0: {sim=} ({cxa_dist_type=})')\n",
    "assert(approx_equal(sim, 1.0)), f'Sim should be close to 1.0 but got {sim=}'\n",
    "\n",
    "# - compute sim for downsample\n",
    "downsample_size: int = 5\n",
    "sim: float = cxa_sim(mdl1, mdl2, X, layer_name, downsample_size=downsample_size, iters=1, cxa_dist_type=cxa_dist_type, effective_neuron_type=effective_neuron_type)\n",
    "print(f'Should be very very close to 1.0: {sim=} ({cxa_dist_type=})')\n",
    "assert(approx_equal(sim, 1.0)), f'Sim should be close to 1.0 but got {sim=}'\n",
    "\n",
    "# - compute sim for downsample\n",
    "downsample_size: int = 1\n",
    "sim: float = cxa_sim(mdl1, mdl2, X, layer_name, downsample_size=downsample_size, iters=1, cxa_dist_type=cxa_dist_type, effective_neuron_type=effective_neuron_type)\n",
    "print(f'Should be very very close to 1.0: {sim=} ({cxa_dist_type=})')\n",
    "assert(approx_equal(sim, 1.0)), f'Sim should be close to 1.0 but got {sim=}'"
   ],
   "metadata": {
    "collapsed": false,
    "pycharm": {
     "name": "#%%\n"
    }
   }
  }
 ],
 "metadata": {
  "kernelspec": {
   "display_name": "Python 3",
   "language": "python",
   "name": "python3"
  },
  "language_info": {
   "codemirror_mode": {
    "name": "ipython",
    "version": 2
   },
   "file_extension": ".py",
   "mimetype": "text/x-python",
   "name": "python",
   "nbconvert_exporter": "python",
   "pygments_lexer": "ipython2",
   "version": "2.7.6"
  }
 },
 "nbformat": 4,
 "nbformat_minor": 0
}