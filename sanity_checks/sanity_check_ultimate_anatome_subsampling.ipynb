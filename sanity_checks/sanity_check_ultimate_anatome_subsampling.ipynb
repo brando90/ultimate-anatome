{
 "cells": [
  {
   "cell_type": "code",
   "execution_count": null,
   "metadata": {
    "collapsed": true
   },
   "outputs": [],
   "source": [
    "\"\"\"\n",
    "subsample the effective data dimension.\n",
    "\"\"\"\n",
    "from collections import OrderedDict\n",
    "from copy import deepcopy\n",
    "\n",
    "import torch\n",
    "import torch.nn as nn\n",
    "\n",
    "from uutils.torch_uu import cxa_sim, approx_equal\n",
    "from uutils.torch_uu.models import get_single_conv_model\n",
    "import anatome\n",
    "\n",
    "from uutils.torch_uu import cxa_sim, approx_equal\n",
    "from uutils.torch_uu.models import get_single_conv_model\n",
    "import anatome\n",
    "\n",
    "Cin: int = 3\n",
    "num_out_filters: int = 8\n",
    "conv_layer: nn.Module = get_single_conv_model(in_channels=3, num_out_filters=num_out_filters)\n",
    "mdl1: nn.Module = nn.Sequential(OrderedDict([('conv1', conv_layer)]))\n",
    "mdl2: nn.Module = deepcopy(mdl1)\n",
    "layer_name = 'conv1'\n",
    "\n",
    "cxa_dist_type = 'svcca'\n",
    "cxa_dist_type = 'pwcca'\n",
    "effective_neuron_type: str = 'filter'\n",
    "\n",
    "# -\n",
    "B: int = 4\n",
    "C, H, W = Cin, 64, 64\n",
    "cxa_dist_type = 'svcca'\n",
    "cxa_dist_type = 'pwcca'\n",
    "X: torch.Tensor = torch.distributions.Normal(loc=0.0, scale=1.0).sample((B, C, H, W))\n",
    "\n",
    "# - compute sim for NO downsample: so layer matrix is []\n",
    "sim: float = cxa_sim(mdl1, mdl2, X, layer_name, cxa_dist_type=cxa_dist_type, effective_neuron_type=effective_neuron_type)\n",
    "print(f'Should be very very close to 1.0: {sim=} ({cxa_dist_type=})')\n",
    "assert(approx_equal(sim, 1.0)), f'Sim should be close to 1.0 but got {sim=}'\n",
    "\n",
    "# # - compute sim for downsample\n",
    "# sim: float = cxa_sim(mdl1, mdl2, X, layer_name, downsample_size=downsample_size, iters=1, cxa_dist_type=cxa_dist_type, effective_neuron_type=effective_neuron_type)\n",
    "# print(f'Should be very very close to 1.0: {sim=} ({cxa_dist_type=})')\n",
    "# assert(approx_equal(sim, 1.0)), f'Sim should be close to 1.0 but got {sim=}'\n",
    "#\n",
    "# # - compute sim for downsample\n",
    "# sim: float = cxa_sim(mdl1, mdl2, X, layer_name, downsample_size=downsample_size, iters=1, cxa_dist_type=cxa_dist_type, effective_neuron_type=effective_neuron_type)\n",
    "# print(f'Should be very very close to 1.0: {sim=} ({cxa_dist_type=})')\n",
    "# assert(approx_equal(sim, 1.0)), f'Sim should be close to 1.0 but got {sim=}'"
   ]
  }
 ],
 "metadata": {
  "kernelspec": {
   "display_name": "Python 3",
   "language": "python",
   "name": "python3"
  },
  "language_info": {
   "codemirror_mode": {
    "name": "ipython",
    "version": 2
   },
   "file_extension": ".py",
   "mimetype": "text/x-python",
   "name": "python",
   "nbconvert_exporter": "python",
   "pygments_lexer": "ipython2",
   "version": "2.7.6"
  }
 },
 "nbformat": 4,
 "nbformat_minor": 0
}