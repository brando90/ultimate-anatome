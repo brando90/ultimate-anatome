{
 "cells": [
  {
   "cell_type": "code",
   "execution_count": 1,
   "metadata": {
    "collapsed": true
   },
   "outputs": [
    {
     "ename": "TypeError",
     "evalue": "cxa_sim() got an unexpected keyword argument 'subsample_effective_num_data_method'",
     "output_type": "error",
     "traceback": [
      "\u001B[0;31m---------------------------------------------------------------------------\u001B[0m",
      "\u001B[0;31mTypeError\u001B[0m                                 Traceback (most recent call last)",
      "\u001B[0;32m/var/folders/x4/0xq0brj57xz3dbhbmblypbm00000gr/T/ipykernel_42545/8339302.py\u001B[0m in \u001B[0;36m<module>\u001B[0;34m\u001B[0m\n\u001B[1;32m     35\u001B[0m \u001B[0msubsample_effective_num_data_method\u001B[0m\u001B[0;34m:\u001B[0m \u001B[0mstr\u001B[0m \u001B[0;34m=\u001B[0m \u001B[0;34m'subsampling_data_to_dims_ratio'\u001B[0m\u001B[0;34m\u001B[0m\u001B[0;34m\u001B[0m\u001B[0m\n\u001B[1;32m     36\u001B[0m \u001B[0msubsample_effective_num_data_param\u001B[0m\u001B[0;34m:\u001B[0m \u001B[0mint\u001B[0m \u001B[0;34m=\u001B[0m \u001B[0;36m20\u001B[0m\u001B[0;34m\u001B[0m\u001B[0;34m\u001B[0m\u001B[0m\n\u001B[0;32m---> 37\u001B[0;31m sim: float = cxa_sim(mdl1, mdl2, X, layer_name, cxa_dist_type=cxa_dist_type, effective_neuron_type=effective_neuron_type,\n\u001B[0m\u001B[1;32m     38\u001B[0m                      \u001B[0msubsample_effective_num_data_method\u001B[0m\u001B[0;34m=\u001B[0m\u001B[0msubsample_effective_num_data_method\u001B[0m\u001B[0;34m,\u001B[0m\u001B[0;34m\u001B[0m\u001B[0;34m\u001B[0m\u001B[0m\n\u001B[1;32m     39\u001B[0m                      subsample_effective_num_data_param=subsample_effective_num_data_param)\n",
      "\u001B[0;31mTypeError\u001B[0m: cxa_sim() got an unexpected keyword argument 'subsample_effective_num_data_method'"
     ]
    }
   ],
   "source": [
    "\"\"\"\n",
    "subsample the effective data dimension.\n",
    "\"\"\"\n",
    "from collections import OrderedDict\n",
    "from copy import deepcopy\n",
    "\n",
    "import torch\n",
    "import torch.nn as nn\n",
    "\n",
    "from uutils.torch_uu import cxa_sim, approx_equal\n",
    "from uutils.torch_uu.models import get_single_conv_model\n",
    "import anatome\n",
    "\n",
    "from uutils.torch_uu import cxa_sim, approx_equal\n",
    "from uutils.torch_uu.models import get_single_conv_model\n",
    "import anatome\n",
    "\n",
    "Cin: int = 3\n",
    "num_out_filters: int = 8\n",
    "conv_layer: nn.Module = get_single_conv_model(in_channels=3, num_out_filters=num_out_filters)\n",
    "mdl1: nn.Module = nn.Sequential(OrderedDict([('conv1', conv_layer)]))\n",
    "mdl2: nn.Module = deepcopy(mdl1)\n",
    "layer_name = 'conv1'\n",
    "\n",
    "cxa_dist_type = 'svcca'\n",
    "cxa_dist_type = 'pwcca'\n",
    "effective_neuron_type: str = 'filter'\n",
    "\n",
    "# -\n",
    "B: int = 4\n",
    "C, H, W = Cin, 84, 84\n",
    "X: torch.Tensor = torch.distributions.Normal(loc=0.0, scale=1.0).sample((B, C, H, W))\n",
    "\n",
    "# - compute sim for NO downsample: so layer matrix is []\n",
    "subsample_effective_num_data_method: str = 'subsampling_data_to_dims_ratio'\n",
    "subsample_effective_num_data_param: int = 20\n",
    "sim: float = cxa_sim(mdl1, mdl2, X, layer_name, cxa_dist_type=cxa_dist_type, effective_neuron_type=effective_neuron_type,\n",
    "                     subsample_effective_num_data_method=subsample_effective_num_data_method,\n",
    "                     subsample_effective_num_data_param=subsample_effective_num_data_param)\n",
    "print(f'Should be very very close to 1.0: {sim=} ({cxa_dist_type=})')\n",
    "assert(approx_equal(sim, 1.0)), f'Sim should be close to 1.0 but got {sim=}'\n",
    "\n",
    "# # - compute sim for downsample\n",
    "# sim: float = cxa_sim(mdl1, mdl2, X, layer_name, downsample_size=downsample_size, iters=1, cxa_dist_type=cxa_dist_type, effective_neuron_type=effective_neuron_type)\n",
    "# print(f'Should be very very close to 1.0: {sim=} ({cxa_dist_type=})')\n",
    "# assert(approx_equal(sim, 1.0)), f'Sim should be close to 1.0 but got {sim=}'\n",
    "#\n",
    "# # - compute sim for downsample\n",
    "# sim: float = cxa_sim(mdl1, mdl2, X, layer_name, downsample_size=downsample_size, iters=1, cxa_dist_type=cxa_dist_type, effective_neuron_type=effective_neuron_type)\n",
    "# print(f'Should be very very close to 1.0: {sim=} ({cxa_dist_type=})')\n",
    "# assert(approx_equal(sim, 1.0)), f'Sim should be close to 1.0 but got {sim=}'"
   ]
  }
 ],
 "metadata": {
  "kernelspec": {
   "display_name": "Python 3",
   "language": "python",
   "name": "python3"
  },
  "language_info": {
   "codemirror_mode": {
    "name": "ipython",
    "version": 2
   },
   "file_extension": ".py",
   "mimetype": "text/x-python",
   "name": "python",
   "nbconvert_exporter": "python",
   "pygments_lexer": "ipython2",
   "version": "2.7.6"
  }
 },
 "nbformat": 4,
 "nbformat_minor": 0
}